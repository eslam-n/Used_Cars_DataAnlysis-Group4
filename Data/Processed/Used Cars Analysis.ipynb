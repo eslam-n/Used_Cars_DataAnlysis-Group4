{
 "cells": [
  {
   "cell_type": "code",
   "execution_count": 2,
   "id": "004ec1fa-c8ab-4e92-80a2-e1060fb65491",
   "metadata": {},
   "outputs": [],
   "source": [
    "import seaborn as sns"
   ]
  },
  {
   "cell_type": "code",
   "execution_count": 3,
   "id": "10f71a06-5f39-404c-a9cd-f6f38b1bdabc",
   "metadata": {},
   "outputs": [],
   "source": [
    "import pandas as pd"
   ]
  },
  {
   "cell_type": "markdown",
   "id": "3523a854-a4af-46bc-8aa5-a4bb08d12530",
   "metadata": {},
   "source": [
    "## Reading the file"
   ]
  },
  {
   "cell_type": "code",
   "execution_count": 4,
   "id": "5860201d-b0d2-473c-b5ef-b4562af38897",
   "metadata": {},
   "outputs": [
    {
     "ename": "FileNotFoundError",
     "evalue": "[Errno 2] No such file or directory: 'data_cars2.csv'",
     "output_type": "error",
     "traceback": [
      "\u001b[31m---------------------------------------------------------------------------\u001b[39m",
      "\u001b[31mFileNotFoundError\u001b[39m                         Traceback (most recent call last)",
      "\u001b[36mCell\u001b[39m\u001b[36m \u001b[39m\u001b[32mIn[4]\u001b[39m\u001b[32m, line 1\u001b[39m\n\u001b[32m----> \u001b[39m\u001b[32m1\u001b[39m cars_df=\u001b[43mpd\u001b[49m\u001b[43m.\u001b[49m\u001b[43mread_csv\u001b[49m\u001b[43m(\u001b[49m\u001b[33;43m'\u001b[39;49m\u001b[33;43mdata_cars2.csv\u001b[39;49m\u001b[33;43m'\u001b[39;49m\u001b[43m)\u001b[49m\n\u001b[32m      2\u001b[39m cars_df \u001b[38;5;66;03m#taking a look at the raw data\u001b[39;00m\n",
      "\u001b[36mFile \u001b[39m\u001b[32m~\\miniconda33\\Lib\\site-packages\\pandas\\io\\parsers\\readers.py:1026\u001b[39m, in \u001b[36mread_csv\u001b[39m\u001b[34m(filepath_or_buffer, sep, delimiter, header, names, index_col, usecols, dtype, engine, converters, true_values, false_values, skipinitialspace, skiprows, skipfooter, nrows, na_values, keep_default_na, na_filter, verbose, skip_blank_lines, parse_dates, infer_datetime_format, keep_date_col, date_parser, date_format, dayfirst, cache_dates, iterator, chunksize, compression, thousands, decimal, lineterminator, quotechar, quoting, doublequote, escapechar, comment, encoding, encoding_errors, dialect, on_bad_lines, delim_whitespace, low_memory, memory_map, float_precision, storage_options, dtype_backend)\u001b[39m\n\u001b[32m   1013\u001b[39m kwds_defaults = _refine_defaults_read(\n\u001b[32m   1014\u001b[39m     dialect,\n\u001b[32m   1015\u001b[39m     delimiter,\n\u001b[32m   (...)\u001b[39m\u001b[32m   1022\u001b[39m     dtype_backend=dtype_backend,\n\u001b[32m   1023\u001b[39m )\n\u001b[32m   1024\u001b[39m kwds.update(kwds_defaults)\n\u001b[32m-> \u001b[39m\u001b[32m1026\u001b[39m \u001b[38;5;28;01mreturn\u001b[39;00m \u001b[43m_read\u001b[49m\u001b[43m(\u001b[49m\u001b[43mfilepath_or_buffer\u001b[49m\u001b[43m,\u001b[49m\u001b[43m \u001b[49m\u001b[43mkwds\u001b[49m\u001b[43m)\u001b[49m\n",
      "\u001b[36mFile \u001b[39m\u001b[32m~\\miniconda33\\Lib\\site-packages\\pandas\\io\\parsers\\readers.py:620\u001b[39m, in \u001b[36m_read\u001b[39m\u001b[34m(filepath_or_buffer, kwds)\u001b[39m\n\u001b[32m    617\u001b[39m _validate_names(kwds.get(\u001b[33m\"\u001b[39m\u001b[33mnames\u001b[39m\u001b[33m\"\u001b[39m, \u001b[38;5;28;01mNone\u001b[39;00m))\n\u001b[32m    619\u001b[39m \u001b[38;5;66;03m# Create the parser.\u001b[39;00m\n\u001b[32m--> \u001b[39m\u001b[32m620\u001b[39m parser = \u001b[43mTextFileReader\u001b[49m\u001b[43m(\u001b[49m\u001b[43mfilepath_or_buffer\u001b[49m\u001b[43m,\u001b[49m\u001b[43m \u001b[49m\u001b[43m*\u001b[49m\u001b[43m*\u001b[49m\u001b[43mkwds\u001b[49m\u001b[43m)\u001b[49m\n\u001b[32m    622\u001b[39m \u001b[38;5;28;01mif\u001b[39;00m chunksize \u001b[38;5;129;01mor\u001b[39;00m iterator:\n\u001b[32m    623\u001b[39m     \u001b[38;5;28;01mreturn\u001b[39;00m parser\n",
      "\u001b[36mFile \u001b[39m\u001b[32m~\\miniconda33\\Lib\\site-packages\\pandas\\io\\parsers\\readers.py:1620\u001b[39m, in \u001b[36mTextFileReader.__init__\u001b[39m\u001b[34m(self, f, engine, **kwds)\u001b[39m\n\u001b[32m   1617\u001b[39m     \u001b[38;5;28mself\u001b[39m.options[\u001b[33m\"\u001b[39m\u001b[33mhas_index_names\u001b[39m\u001b[33m\"\u001b[39m] = kwds[\u001b[33m\"\u001b[39m\u001b[33mhas_index_names\u001b[39m\u001b[33m\"\u001b[39m]\n\u001b[32m   1619\u001b[39m \u001b[38;5;28mself\u001b[39m.handles: IOHandles | \u001b[38;5;28;01mNone\u001b[39;00m = \u001b[38;5;28;01mNone\u001b[39;00m\n\u001b[32m-> \u001b[39m\u001b[32m1620\u001b[39m \u001b[38;5;28mself\u001b[39m._engine = \u001b[38;5;28;43mself\u001b[39;49m\u001b[43m.\u001b[49m\u001b[43m_make_engine\u001b[49m\u001b[43m(\u001b[49m\u001b[43mf\u001b[49m\u001b[43m,\u001b[49m\u001b[43m \u001b[49m\u001b[38;5;28;43mself\u001b[39;49m\u001b[43m.\u001b[49m\u001b[43mengine\u001b[49m\u001b[43m)\u001b[49m\n",
      "\u001b[36mFile \u001b[39m\u001b[32m~\\miniconda33\\Lib\\site-packages\\pandas\\io\\parsers\\readers.py:1880\u001b[39m, in \u001b[36mTextFileReader._make_engine\u001b[39m\u001b[34m(self, f, engine)\u001b[39m\n\u001b[32m   1878\u001b[39m     \u001b[38;5;28;01mif\u001b[39;00m \u001b[33m\"\u001b[39m\u001b[33mb\u001b[39m\u001b[33m\"\u001b[39m \u001b[38;5;129;01mnot\u001b[39;00m \u001b[38;5;129;01min\u001b[39;00m mode:\n\u001b[32m   1879\u001b[39m         mode += \u001b[33m\"\u001b[39m\u001b[33mb\u001b[39m\u001b[33m\"\u001b[39m\n\u001b[32m-> \u001b[39m\u001b[32m1880\u001b[39m \u001b[38;5;28mself\u001b[39m.handles = \u001b[43mget_handle\u001b[49m\u001b[43m(\u001b[49m\n\u001b[32m   1881\u001b[39m \u001b[43m    \u001b[49m\u001b[43mf\u001b[49m\u001b[43m,\u001b[49m\n\u001b[32m   1882\u001b[39m \u001b[43m    \u001b[49m\u001b[43mmode\u001b[49m\u001b[43m,\u001b[49m\n\u001b[32m   1883\u001b[39m \u001b[43m    \u001b[49m\u001b[43mencoding\u001b[49m\u001b[43m=\u001b[49m\u001b[38;5;28;43mself\u001b[39;49m\u001b[43m.\u001b[49m\u001b[43moptions\u001b[49m\u001b[43m.\u001b[49m\u001b[43mget\u001b[49m\u001b[43m(\u001b[49m\u001b[33;43m\"\u001b[39;49m\u001b[33;43mencoding\u001b[39;49m\u001b[33;43m\"\u001b[39;49m\u001b[43m,\u001b[49m\u001b[43m \u001b[49m\u001b[38;5;28;43;01mNone\u001b[39;49;00m\u001b[43m)\u001b[49m\u001b[43m,\u001b[49m\n\u001b[32m   1884\u001b[39m \u001b[43m    \u001b[49m\u001b[43mcompression\u001b[49m\u001b[43m=\u001b[49m\u001b[38;5;28;43mself\u001b[39;49m\u001b[43m.\u001b[49m\u001b[43moptions\u001b[49m\u001b[43m.\u001b[49m\u001b[43mget\u001b[49m\u001b[43m(\u001b[49m\u001b[33;43m\"\u001b[39;49m\u001b[33;43mcompression\u001b[39;49m\u001b[33;43m\"\u001b[39;49m\u001b[43m,\u001b[49m\u001b[43m \u001b[49m\u001b[38;5;28;43;01mNone\u001b[39;49;00m\u001b[43m)\u001b[49m\u001b[43m,\u001b[49m\n\u001b[32m   1885\u001b[39m \u001b[43m    \u001b[49m\u001b[43mmemory_map\u001b[49m\u001b[43m=\u001b[49m\u001b[38;5;28;43mself\u001b[39;49m\u001b[43m.\u001b[49m\u001b[43moptions\u001b[49m\u001b[43m.\u001b[49m\u001b[43mget\u001b[49m\u001b[43m(\u001b[49m\u001b[33;43m\"\u001b[39;49m\u001b[33;43mmemory_map\u001b[39;49m\u001b[33;43m\"\u001b[39;49m\u001b[43m,\u001b[49m\u001b[43m \u001b[49m\u001b[38;5;28;43;01mFalse\u001b[39;49;00m\u001b[43m)\u001b[49m\u001b[43m,\u001b[49m\n\u001b[32m   1886\u001b[39m \u001b[43m    \u001b[49m\u001b[43mis_text\u001b[49m\u001b[43m=\u001b[49m\u001b[43mis_text\u001b[49m\u001b[43m,\u001b[49m\n\u001b[32m   1887\u001b[39m \u001b[43m    \u001b[49m\u001b[43merrors\u001b[49m\u001b[43m=\u001b[49m\u001b[38;5;28;43mself\u001b[39;49m\u001b[43m.\u001b[49m\u001b[43moptions\u001b[49m\u001b[43m.\u001b[49m\u001b[43mget\u001b[49m\u001b[43m(\u001b[49m\u001b[33;43m\"\u001b[39;49m\u001b[33;43mencoding_errors\u001b[39;49m\u001b[33;43m\"\u001b[39;49m\u001b[43m,\u001b[49m\u001b[43m \u001b[49m\u001b[33;43m\"\u001b[39;49m\u001b[33;43mstrict\u001b[39;49m\u001b[33;43m\"\u001b[39;49m\u001b[43m)\u001b[49m\u001b[43m,\u001b[49m\n\u001b[32m   1888\u001b[39m \u001b[43m    \u001b[49m\u001b[43mstorage_options\u001b[49m\u001b[43m=\u001b[49m\u001b[38;5;28;43mself\u001b[39;49m\u001b[43m.\u001b[49m\u001b[43moptions\u001b[49m\u001b[43m.\u001b[49m\u001b[43mget\u001b[49m\u001b[43m(\u001b[49m\u001b[33;43m\"\u001b[39;49m\u001b[33;43mstorage_options\u001b[39;49m\u001b[33;43m\"\u001b[39;49m\u001b[43m,\u001b[49m\u001b[43m \u001b[49m\u001b[38;5;28;43;01mNone\u001b[39;49;00m\u001b[43m)\u001b[49m\u001b[43m,\u001b[49m\n\u001b[32m   1889\u001b[39m \u001b[43m\u001b[49m\u001b[43m)\u001b[49m\n\u001b[32m   1890\u001b[39m \u001b[38;5;28;01massert\u001b[39;00m \u001b[38;5;28mself\u001b[39m.handles \u001b[38;5;129;01mis\u001b[39;00m \u001b[38;5;129;01mnot\u001b[39;00m \u001b[38;5;28;01mNone\u001b[39;00m\n\u001b[32m   1891\u001b[39m f = \u001b[38;5;28mself\u001b[39m.handles.handle\n",
      "\u001b[36mFile \u001b[39m\u001b[32m~\\miniconda33\\Lib\\site-packages\\pandas\\io\\common.py:873\u001b[39m, in \u001b[36mget_handle\u001b[39m\u001b[34m(path_or_buf, mode, encoding, compression, memory_map, is_text, errors, storage_options)\u001b[39m\n\u001b[32m    868\u001b[39m \u001b[38;5;28;01melif\u001b[39;00m \u001b[38;5;28misinstance\u001b[39m(handle, \u001b[38;5;28mstr\u001b[39m):\n\u001b[32m    869\u001b[39m     \u001b[38;5;66;03m# Check whether the filename is to be opened in binary mode.\u001b[39;00m\n\u001b[32m    870\u001b[39m     \u001b[38;5;66;03m# Binary mode does not support 'encoding' and 'newline'.\u001b[39;00m\n\u001b[32m    871\u001b[39m     \u001b[38;5;28;01mif\u001b[39;00m ioargs.encoding \u001b[38;5;129;01mand\u001b[39;00m \u001b[33m\"\u001b[39m\u001b[33mb\u001b[39m\u001b[33m\"\u001b[39m \u001b[38;5;129;01mnot\u001b[39;00m \u001b[38;5;129;01min\u001b[39;00m ioargs.mode:\n\u001b[32m    872\u001b[39m         \u001b[38;5;66;03m# Encoding\u001b[39;00m\n\u001b[32m--> \u001b[39m\u001b[32m873\u001b[39m         handle = \u001b[38;5;28;43mopen\u001b[39;49m\u001b[43m(\u001b[49m\n\u001b[32m    874\u001b[39m \u001b[43m            \u001b[49m\u001b[43mhandle\u001b[49m\u001b[43m,\u001b[49m\n\u001b[32m    875\u001b[39m \u001b[43m            \u001b[49m\u001b[43mioargs\u001b[49m\u001b[43m.\u001b[49m\u001b[43mmode\u001b[49m\u001b[43m,\u001b[49m\n\u001b[32m    876\u001b[39m \u001b[43m            \u001b[49m\u001b[43mencoding\u001b[49m\u001b[43m=\u001b[49m\u001b[43mioargs\u001b[49m\u001b[43m.\u001b[49m\u001b[43mencoding\u001b[49m\u001b[43m,\u001b[49m\n\u001b[32m    877\u001b[39m \u001b[43m            \u001b[49m\u001b[43merrors\u001b[49m\u001b[43m=\u001b[49m\u001b[43merrors\u001b[49m\u001b[43m,\u001b[49m\n\u001b[32m    878\u001b[39m \u001b[43m            \u001b[49m\u001b[43mnewline\u001b[49m\u001b[43m=\u001b[49m\u001b[33;43m\"\u001b[39;49m\u001b[33;43m\"\u001b[39;49m\u001b[43m,\u001b[49m\n\u001b[32m    879\u001b[39m \u001b[43m        \u001b[49m\u001b[43m)\u001b[49m\n\u001b[32m    880\u001b[39m     \u001b[38;5;28;01melse\u001b[39;00m:\n\u001b[32m    881\u001b[39m         \u001b[38;5;66;03m# Binary mode\u001b[39;00m\n\u001b[32m    882\u001b[39m         handle = \u001b[38;5;28mopen\u001b[39m(handle, ioargs.mode)\n",
      "\u001b[31mFileNotFoundError\u001b[39m: [Errno 2] No such file or directory: 'data_cars2.csv'"
     ]
    }
   ],
   "source": [
    "cars_df=pd.read_csv('data_cars2.csv')\n",
    "cars_df #taking a look at the raw data"
   ]
  },
  {
   "cell_type": "markdown",
   "id": "da723898-0e41-49a1-9a44-32fc1be59c1d",
   "metadata": {},
   "source": [
    "## 1-Data exploration"
   ]
  },
  {
   "cell_type": "code",
   "execution_count": null,
   "id": "c9953fd0-9a67-4bbf-b2de-0ff96b5dcf71",
   "metadata": {},
   "outputs": [],
   "source": [
    "cars_df.info() # take a small look at the info "
   ]
  },
  {
   "cell_type": "code",
   "execution_count": null,
   "id": "c092c584-8334-4d6a-b60a-ff5846a344f3",
   "metadata": {},
   "outputs": [],
   "source": [
    "cars_df.isnull().sum() # what is missing ?"
   ]
  },
  {
   "cell_type": "code",
   "execution_count": null,
   "id": "c6c33b1e-b58b-4f33-8858-8c9045be7d8f",
   "metadata": {},
   "outputs": [],
   "source": [
    "cars_df.shape # another small look "
   ]
  },
  {
   "cell_type": "markdown",
   "id": "e453e4a5-773e-4f62-90da-33e3cb935155",
   "metadata": {},
   "source": [
    "#### From this step we know the number of rows and columns, which are 4999 rows and 17 columns, the type of each column, and the number of missing data in each column (the Market Category column contains a large amount of missing data, and there is a column called 0 in which all of its data is missing)."
   ]
  },
  {
   "cell_type": "markdown",
   "id": "fb364b5e-964e-4ee2-9419-eaa5bab810b6",
   "metadata": {},
   "source": [
    "## 2-data cleaning"
   ]
  },
  {
   "cell_type": "code",
   "execution_count": null,
   "id": "ef16f69d-e2ae-4b80-9fbd-df60996c68a1",
   "metadata": {},
   "outputs": [],
   "source": [
    "median_EngineHP=cars_df['Engine HP'].median()\n",
    "median_NumberofDoors=cars_df['Number of Doors'].median()\n",
    "median_EngineHP,median_NumberofDoors\n",
    "#The median of each column containing missing data was calculated to fill it.\n",
    "# for now will fill it like this \n",
    "#if it is necessary in our analysis will be filling it manually "
   ]
  },
  {
   "cell_type": "code",
   "execution_count": null,
   "id": "28b14ceb-44e6-4e55-a617-baeec30ffbc6",
   "metadata": {},
   "outputs": [],
   "source": [
    "cars_df['Engine HP'].fillna(median_EngineHP,inplace=True)\n",
    "cars_df['Number of Doors'].fillna(median_NumberofDoors,inplace=True)"
   ]
  },
  {
   "cell_type": "code",
   "execution_count": null,
   "id": "6b40446a-d853-413e-b4c2-0d240f4e42db",
   "metadata": {},
   "outputs": [],
   "source": [
    "cars_df['Market Category'].fillna('Unknown', inplace=True)\n",
    "#The Market Category column has a lot of missing data so we can't replace it with the median so the missing data is called unkown\n",
    "# we dont need it in our analysis"
   ]
  },
  {
   "cell_type": "code",
   "execution_count": null,
   "id": "ca455362-8b33-4558-8c60-0817144dfec2",
   "metadata": {},
   "outputs": [],
   "source": [
    "cars_df.loc[\n",
    "    (cars_df['Engine Cylinders'].isnull()) & (cars_df['Engine Fuel Type'] == 'electric'),\n",
    "    'Engine Cylinders'\n",
    "] = 0\n",
    "# electric cars has no cylinders"
   ]
  },
  {
   "cell_type": "code",
   "execution_count": null,
   "id": "6b32253c-538e-448c-96aa-5177aa9c06d5",
   "metadata": {},
   "outputs": [],
   "source": [
    "cars_df.loc[\n",
    "    (cars_df['Engine Cylinders'].isnull()) & (cars_df['Model'] == 'RX-7'),\n",
    "    'Engine Cylinders'\n",
    "] = 2\n",
    "\n",
    "# this was for the mazda's RX7"
   ]
  },
  {
   "cell_type": "code",
   "execution_count": null,
   "id": "bb267f2c-349c-45f7-85c9-ff92739eabc7",
   "metadata": {},
   "outputs": [],
   "source": [
    "cars_df.loc[\n",
    "    (cars_df['Engine Cylinders'].isnull()) & (cars_df['Model'] == 'RX-8'),\n",
    "    'Engine Cylinders'\n",
    "] = 2\n",
    "\n",
    "# this was for the mazda's RX8 "
   ]
  },
  {
   "cell_type": "code",
   "execution_count": null,
   "id": "90d2d2f5-223c-4c85-ac44-e2aaaac8f7aa",
   "metadata": {},
   "outputs": [],
   "source": [
    "cars_df[cars_df['Engine Cylinders'].isnull()]\n",
    "# all clean and ready to analyze"
   ]
  },
  {
   "cell_type": "code",
   "execution_count": null,
   "id": "d7465703-ea6c-4306-859f-9e727f84868c",
   "metadata": {},
   "outputs": [],
   "source": [
    "cars_df.loc[cars_df['Engine Fuel Type'].isnull(), 'Engine Fuel Type'] = 'regular'"
   ]
  },
  {
   "cell_type": "code",
   "execution_count": null,
   "id": "55237abc-f4f9-40c9-ad17-da4d1fce97b4",
   "metadata": {},
   "outputs": [],
   "source": [
    "cars_df.isnull().sum()\n",
    "# Ensure that there is no missing data."
   ]
  },
  {
   "cell_type": "code",
   "execution_count": null,
   "id": "5de2eb49-ee7c-41af-894f-19d535db9b6b",
   "metadata": {},
   "outputs": [],
   "source": [
    "cars_df['MSRP_formatted']= cars_df['MSRP'].apply(lambda x: \"${:,.0f}\".format(x))\n",
    "cars_df\n",
    "# for our reference we have put a new column with the MSRP in $"
   ]
  },
  {
   "cell_type": "markdown",
   "id": "17706b30-c7cc-4443-b677-32f4c217cbef",
   "metadata": {},
   "source": [
    "#### In this step, all empty data were filled in using several methods. The column with all missing data was deleted, and the columns that contained reasonably missing data were replaced with the median. There is a column that contains a lot of missing data that was dealt with by naming the missing data as unknown."
   ]
  },
  {
   "cell_type": "markdown",
   "id": "3c9b92f7-c669-48e4-b6c7-9152754f8cc9",
   "metadata": {},
   "source": [
    "## 3- Exploratory Data Analysis"
   ]
  },
  {
   "cell_type": "code",
   "execution_count": null,
   "id": "a0fe058a-ff20-433a-8ba0-f68c80415361",
   "metadata": {},
   "outputs": [],
   "source": [
    "cars_df.describe()\n",
    "#For numerical value"
   ]
  },
  {
   "cell_type": "code",
   "execution_count": null,
   "id": "fb9c460d-af35-4e7b-a641-0c261c35486a",
   "metadata": {},
   "outputs": [],
   "source": [
    "cars_df.select_dtypes(include='object').nunique()\n",
    "##For categorical value"
   ]
  },
  {
   "cell_type": "code",
   "execution_count": null,
   "id": "cea1d310-2a58-4bc6-829e-105e88754546",
   "metadata": {},
   "outputs": [],
   "source": [
    "print(cars_df['Transmission Type'].value_counts())\n",
    "# general info "
   ]
  },
  {
   "cell_type": "code",
   "execution_count": null,
   "id": "e18622fa-5d43-4ee9-8bd7-32993dd483e6",
   "metadata": {},
   "outputs": [],
   "source": []
  },
  {
   "cell_type": "code",
   "execution_count": null,
   "id": "db31204e-1e85-4001-8edc-e09571636f7c",
   "metadata": {},
   "outputs": [],
   "source": [
    "avg_popularity_by_style = cars_df.groupby('Vehicle Style')['Popularity'].mean().sort_values(ascending=False).plot(kind = 'barh');\n",
    "plt.title(\"avarage popularity\")\n",
    "plt.xlabel(\"number of search\")\n",
    "plt.ylabel(\"vehicle style\");\n",
    "#print(avg_popularity_by_style);\n",
    "# calculating  the avarage to see what cars are more desirable "
   ]
  },
  {
   "cell_type": "code",
   "execution_count": null,
   "id": "bdcb29a4-d35d-414d-8c30-8b468dd3bf66",
   "metadata": {},
   "outputs": [],
   "source": [
    "print(cars_df['Vehicle Style'].value_counts())\n",
    "# counting the availabelity in the market "
   ]
  },
  {
   "cell_type": "code",
   "execution_count": null,
   "id": "e6ea24e7-560d-438e-bdee-c60082306275",
   "metadata": {},
   "outputs": [],
   "source": [
    "cars_df['Year'].value_counts().sort_values().plot(kind='bar')\n",
    "plt.title(\"available models\")\n",
    "plt.xlabel(\"years\")\n",
    "plt.ylabel(\"number of cars\")\n",
    "plt.show()\n",
    "# a look to what years of make we have in the data "
   ]
  },
  {
   "cell_type": "markdown",
   "id": "88f4d5c5-c484-4702-b7ed-25b5c1364a7a",
   "metadata": {},
   "source": [
    "#### In this step, the information contained in the data was explored, such as the average, highest value, lowest value, st, etc., and the most frequently repeated items in each column were also explored."
   ]
  },
  {
   "cell_type": "markdown",
   "id": "b57815e6-fb37-4b02-9a1c-f9e62ebf72b8",
   "metadata": {},
   "source": [
    "## 4-problem solving"
   ]
  },
  {
   "cell_type": "markdown",
   "id": "f441ba84-f1a7-4a05-9730-7e608bf07044",
   "metadata": {},
   "source": [
    "#### we are about to start up a business which is a showroom for used cars to be spiciffic we want to be specilized in cargo vans , 2dr SUV's and Passenger Vans based on the data we have "
   ]
  },
  {
   "cell_type": "code",
   "execution_count": null,
   "id": "d522a1ea-92b7-408c-8eb7-643af7f53661",
   "metadata": {},
   "outputs": [],
   "source": [
    "cars_df.corr(numeric_only=True)\n",
    "#There was no correlations between the catogery we are targeting and the numbers of cilenders or highway MPG"
   ]
  },
  {
   "cell_type": "code",
   "execution_count": null,
   "id": "05cdc214-22e3-4ce6-8309-0c3da81a30f7",
   "metadata": {},
   "outputs": [],
   "source": [
    "avg_popularity_by_style = cars_df.groupby('Vehicle Style')['Popularity'].mean().sort_values(ascending=False)\n",
    "\n",
    "print(avg_popularity_by_style)\n",
    "# deciding to go with the top three Vehicle Style as it is has the top 3 avarage Popularity "
   ]
  },
  {
   "cell_type": "code",
   "execution_count": null,
   "id": "6b2999af-9ae2-4197-9fb3-cc983161a992",
   "metadata": {},
   "outputs": [],
   "source": [
    "print(cars_df['Vehicle Style'].value_counts())\n",
    "# as we have a high demand on the top 3 Vehicle Style in Popularity and a low value available we will put this three types of vehicle in our showroom"
   ]
  },
  {
   "cell_type": "code",
   "execution_count": null,
   "id": "b4ce1fb8-e900-4cad-a74a-533532b909d8",
   "metadata": {},
   "outputs": [],
   "source": [
    "cars_df['Vehicle Style'].value_counts().plot(kind='barh');\n",
    "plt.title(\"available models\")\n",
    "plt.xlabel(\"number of cars\")\n",
    "plt.ylabel(\"cars style\")\n",
    "plt.show()\n",
    "# ploting it in a bar chart to make it clear "
   ]
  },
  {
   "cell_type": "code",
   "execution_count": null,
   "id": "f1884d05-b5fe-4f8c-ad72-37900c0e205b",
   "metadata": {},
   "outputs": [],
   "source": []
  },
  {
   "cell_type": "code",
   "execution_count": null,
   "id": "fcd151f4-292e-44ee-a3b0-8e3e34fdd32e",
   "metadata": {},
   "outputs": [],
   "source": [
    "target_styles = ['Cargo Van', 'Cargo Minivan', 'Passenger Van']\n",
    "filtered_df = cars_df[cars_df['Vehicle Style'].isin(target_styles)]\n",
    "grouped = filtered_df.groupby(['Vehicle Style', 'Make']).size().unstack()\n",
    "grouped.T.plot(kind='bar', stacked=True, figsize=(12, 6))\n",
    "grouped.T\n",
    "# Ai generated analysis as we didnt learn how to do this in particular and it is nacesery for our analysis \n",
    "# last code with same result but with the teaching of Mr.Ali "
   ]
  },
  {
   "cell_type": "code",
   "execution_count": null,
   "id": "57d3aa21-6993-4268-b103-aab081f58b16",
   "metadata": {},
   "outputs": [],
   "source": [
    "target_styles = ['Cargo Van', 'Cargo Minivan', 'Passenger Van']\n",
    "\n",
    "newer_cars = cars_df[\n",
    "    (cars_df['Year'] > 2015) &\n",
    "    (cars_df['Vehicle Style'].isin(target_styles))\n",
    "]\n",
    "\n",
    "print(f\"Number of cars from after 2015 in target styles: {len(newer_cars)}\")\n",
    "newer_cars.sample(73)\n",
    "# taking the cars that has been made after 2015 as it is a Used Cars Data and we dont want some old cars "
   ]
  },
  {
   "cell_type": "code",
   "execution_count": null,
   "id": "97c295fc-cc43-488e-9b3d-8107b4d4d5d0",
   "metadata": {},
   "outputs": [],
   "source": [
    "# Define top 4 popular styles\n",
    "top_styles = ['Passenger Van', 'Cargo Minivan', 'Cargo Van', '2dr SUV']\n",
    "\n",
    "# Filter cars after 2015 and in top 4 styles\n",
    "newer_cars = cars_df[(cars_df['Year'] > 2015) & (cars_df['Vehicle Style'].isin(top_styles))]\n",
    "\n",
    "# Print count\n",
    "print(f\"Number of cars from after 2015 in top 4 styles: {len(newer_cars)}\")\n",
    "\n",
    "# Show sample\n",
    "newer_cars.sample(76)"
   ]
  },
  {
   "cell_type": "code",
   "execution_count": null,
   "id": "f4c8b8af-5ff7-4ae6-a100-44c0cd700297",
   "metadata": {},
   "outputs": [],
   "source": [
    "# Define the target styles\n",
    "target_styles = ['Cargo Van', 'Cargo Minivan', 'Passenger Van']\n",
    "\n",
    "# Filter only rows with those vehicle styles\n",
    "filtered_vans = cars_df[cars_df['Vehicle Style'].isin(target_styles)]\n",
    "\n",
    "# Group by Make and count how many vehicles of each\n",
    "van_counts_by_make = filtered_vans['Make'].value_counts()\n",
    "\n",
    "# Display the results\n",
    "print(van_counts_by_make)"
   ]
  },
  {
   "cell_type": "code",
   "execution_count": null,
   "id": "3c4beb2f-f018-4a89-a3af-70594f6b5faf",
   "metadata": {},
   "outputs": [],
   "source": [
    "cars_df.groupby(['Make', 'Vehicle Style'])['Model'].count()"
   ]
  },
  {
   "cell_type": "code",
   "execution_count": null,
   "id": "13c98f97-8216-4e92-a660-f3415cd24344",
   "metadata": {},
   "outputs": [],
   "source": [
    "xx = cars_df.groupby(['Make', 'Vehicle Style'])['Model'].count().reset_index()#.plot(kind='bar', stacked=True)\n",
    "xx = xx[xx['Vehicle Style'].isin(target_styles)]\n",
    "xx"
   ]
  },
  {
   "cell_type": "code",
   "execution_count": null,
   "id": "fe4877e2-7904-4e20-a072-86b0a344ffe1",
   "metadata": {},
   "outputs": [],
   "source": [
    "import matplotlib.pyplot as plt\n"
   ]
  },
  {
   "cell_type": "code",
   "execution_count": null,
   "id": "3e90999a-d57b-4443-a164-b99972d378ad",
   "metadata": {},
   "outputs": [],
   "source": [
    "xx"
   ]
  },
  {
   "cell_type": "code",
   "execution_count": null,
   "id": "40520e3f-b7f9-4fcc-8448-5bc7971b6dab",
   "metadata": {},
   "outputs": [],
   "source": [
    "pd.pivot_table(xx, values='Model', columns=['Vehicle Style'], index=['Make']).plot(kind='bar', stacked='bar');"
   ]
  },
  {
   "cell_type": "code",
   "execution_count": null,
   "id": "af76498f-f720-4fd3-b4b0-83284651024f",
   "metadata": {},
   "outputs": [],
   "source": []
  },
  {
   "cell_type": "code",
   "execution_count": null,
   "id": "3ca7c707-5e5b-4ac8-9772-fc7d4e14453d",
   "metadata": {},
   "outputs": [],
   "source": []
  }
 ],
 "metadata": {
  "kernelspec": {
   "display_name": "Python 3 (ipykernel)",
   "language": "python",
   "name": "python3"
  },
  "language_info": {
   "codemirror_mode": {
    "name": "ipython",
    "version": 3
   },
   "file_extension": ".py",
   "mimetype": "text/x-python",
   "name": "python",
   "nbconvert_exporter": "python",
   "pygments_lexer": "ipython3",
   "version": "3.13.5"
  }
 },
 "nbformat": 4,
 "nbformat_minor": 5
}
